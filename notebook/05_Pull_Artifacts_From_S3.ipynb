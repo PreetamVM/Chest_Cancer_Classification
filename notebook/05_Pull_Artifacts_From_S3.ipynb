{
 "cells": [
  {
   "cell_type": "markdown",
   "metadata": {},
   "source": [
    "# <font color = 'orange'> Pull artifacts from s3 bucket"
   ]
  },
  {
   "cell_type": "code",
   "execution_count": 1,
   "metadata": {},
   "outputs": [],
   "source": [
    "import os\n",
    "\n",
    "os.chdir('../')"
   ]
  },
  {
   "cell_type": "code",
   "execution_count": 10,
   "metadata": {},
   "outputs": [],
   "source": [
    "from dataclasses import dataclass\n",
    "from pathlib import Path\n",
    "\n",
    "\n",
    "@dataclass(frozen=True)\n",
    "class PullArtifactsConfig:\n",
    "    trained_model_path: Path\n",
    "    access_key_id: str\n",
    "    secret_access_key: str\n",
    "    region: str\n",
    "    bucket_name: str\n",
    "    object_key_name: str"
   ]
  },
  {
   "cell_type": "code",
   "execution_count": 11,
   "metadata": {},
   "outputs": [],
   "source": [
    "from lung_cancer_classifier.constants import *\n",
    "from lung_cancer_classifier.utils.common import read_yaml, create_directories\n",
    "from pathlib import Path\n",
    "\n",
    "\n",
    "class ConfigurationManager:\n",
    "    def __init__(\n",
    "        self,\n",
    "        config_filepath = CONFIG_FILE_PATH,\n",
    "        secrets_file_path = SECRETS_FILE_PATH  \n",
    "    ):\n",
    "        self.config = read_yaml(config_filepath)\n",
    "        self.secrets = read_yaml(secrets_file_path)\n",
    "\n",
    "    def get_pull_artifacts_config(self) -> PullArtifactsConfig:\n",
    "        aws_secrets = self.secrets.aws\n",
    "        training = self.config.training\n",
    "        \n",
    "        create_directories([Path(training.root_dir)])\n",
    "        \n",
    "        pull_artifacts_config = PullArtifactsConfig(\n",
    "            trained_model_path=Path(training.trained_model_path),\n",
    "            access_key_id=aws_secrets.ACCESS_KEY_ID,\n",
    "            secret_access_key=aws_secrets.SECRET_ACCESS_KEY,\n",
    "            region=aws_secrets.REGION,            \n",
    "            bucket_name=aws_secrets.BUCKET_NAME,\n",
    "            object_key_name=aws_secrets.OBJECT_KEY_NAME\n",
    "        )\n",
    "        \n",
    "        return pull_artifacts_config"
   ]
  },
  {
   "cell_type": "code",
   "execution_count": 12,
   "metadata": {},
   "outputs": [],
   "source": [
    "import boto3\n",
    "\n",
    "\n",
    "class PullArtifacts:\n",
    "    def __init__(self, config: PullArtifactsConfig):\n",
    "        self.config = config\n",
    "        \n",
    "    def download_model(self):\n",
    "\n",
    "        s3_resource = boto3.resource(\n",
    "            service_name='s3',\n",
    "            region_name=self.config.region,\n",
    "            aws_access_key_id=self.config.access_key_id,\n",
    "            aws_secret_access_key=self.config.secret_access_key\n",
    "        )\n",
    "        \n",
    "        \n",
    "        s3_resource.Bucket(self.config.bucket_name).download_file(Key=self.config.object_key_name, Filename=self.config.trained_model_path)"
   ]
  },
  {
   "cell_type": "code",
   "execution_count": null,
   "metadata": {},
   "outputs": [],
   "source": [
    "try:\n",
    "    config = ConfigurationManager()\n",
    "    pull_artifacts_config = config.get_pull_artifacts_config()\n",
    "    pull_artifacts = PullArtifacts(config=pull_artifacts_config)\n",
    "    # pull_artifacts.download_model()\n",
    "except Exception as e:\n",
    "    raise e"
   ]
  }
 ],
 "metadata": {
  "kernelspec": {
   "display_name": "Python 3",
   "language": "python",
   "name": "python3"
  },
  "language_info": {
   "codemirror_mode": {
    "name": "ipython",
    "version": 3
   },
   "file_extension": ".py",
   "mimetype": "text/x-python",
   "name": "python",
   "nbconvert_exporter": "python",
   "pygments_lexer": "ipython3",
   "version": "3.11.0"
  }
 },
 "nbformat": 4,
 "nbformat_minor": 2
}
